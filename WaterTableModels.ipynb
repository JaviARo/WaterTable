{
 "cells": [
  {
   "cell_type": "code",
   "execution_count": 37,
   "metadata": {},
   "outputs": [
    {
     "name": "stdout",
     "output_type": "stream",
     "text": [
      "Collecting imbalanced-learn\n",
      "  Downloading imbalanced_learn-0.13.0-py3-none-any.whl.metadata (8.8 kB)\n",
      "Requirement already satisfied: numpy<3,>=1.24.3 in c:\\users\\redbe\\anaconda3\\envs\\three-twelve\\lib\\site-packages (from imbalanced-learn) (1.26.4)\n",
      "Requirement already satisfied: scipy<2,>=1.10.1 in c:\\users\\redbe\\anaconda3\\envs\\three-twelve\\lib\\site-packages (from imbalanced-learn) (1.13.0)\n",
      "Requirement already satisfied: scikit-learn<2,>=1.3.2 in c:\\users\\redbe\\anaconda3\\envs\\three-twelve\\lib\\site-packages (from imbalanced-learn) (1.5.2)\n",
      "Collecting sklearn-compat<1,>=0.1 (from imbalanced-learn)\n",
      "  Downloading sklearn_compat-0.1.3-py3-none-any.whl.metadata (18 kB)\n",
      "Requirement already satisfied: joblib<2,>=1.1.1 in c:\\users\\redbe\\anaconda3\\envs\\three-twelve\\lib\\site-packages (from imbalanced-learn) (1.4.2)\n",
      "Requirement already satisfied: threadpoolctl<4,>=2.0.0 in c:\\users\\redbe\\anaconda3\\envs\\three-twelve\\lib\\site-packages (from imbalanced-learn) (3.5.0)\n",
      "Downloading imbalanced_learn-0.13.0-py3-none-any.whl (238 kB)\n",
      "   ---------------------------------------- 0.0/238.4 kB ? eta -:--:--\n",
      "   ---------- ----------------------------- 61.4/238.4 kB 3.2 MB/s eta 0:00:01\n",
      "   ---------------------------------------- 238.4/238.4 kB 3.6 MB/s eta 0:00:00\n",
      "Downloading sklearn_compat-0.1.3-py3-none-any.whl (18 kB)\n",
      "Installing collected packages: sklearn-compat, imbalanced-learn\n",
      "Successfully installed imbalanced-learn-0.13.0 sklearn-compat-0.1.3\n",
      "Note: you may need to restart the kernel to use updated packages.\n"
     ]
    }
   ],
   "source": [
    "%pip install imbalanced-learn"
   ]
  },
  {
   "cell_type": "code",
   "execution_count": 1,
   "metadata": {},
   "outputs": [],
   "source": [
    "import pandas as pd\n",
    "from sklearn.model_selection import train_test_split\n",
    "from lazypredict.Supervised import LazyClassifier\n",
    "from sklearn.ensemble import RandomForestClassifier\n",
    "from sklearn.metrics import accuracy_score, classification_report\n",
    "from sklearn.model_selection import cross_val_score, KFold, GridSearchCV, RandomizedSearchCV\n",
    "from sklearn.pipeline import make_pipeline\n",
    "from sklearn.preprocessing import StandardScaler\n",
    "import joblib\n",
    "import os\n",
    "from sklearn.metrics import confusion_matrix, ConfusionMatrixDisplay\n",
    "from imblearn.over_sampling import SMOTE, ADASYN"
   ]
  },
  {
   "cell_type": "code",
   "execution_count": 2,
   "metadata": {},
   "outputs": [],
   "source": [
    "X = pd.read_csv('train_values_transformed/X.csv', sep=',')\n",
    "y = pd.read_csv('train_values_transformed/y.csv', sep=',')\n",
    "\n",
    "X = X.drop(columns=['Unnamed: 0'], axis=1)\n",
    "y = y.drop(columns=['Unnamed: 0'], axis=1)\n",
    "\n",
    "oversample = SMOTE()\n",
    "X, y = oversample.fit_resample(X, y)\n",
    "\n",
    "X_train, X_val, y_train, y_val = train_test_split(X, y, test_size=0.20, random_state=1, stratify=y)\n",
    "\n",
    "X_train, X_test, y_train, y_test = train_test_split(X_train, y_train, test_size=0.25, random_state=1, stratify=y_train) # 0.25 x 0.8 = 0.2"
   ]
  },
  {
   "cell_type": "code",
   "execution_count": 40,
   "metadata": {},
   "outputs": [
    {
     "data": {
      "text/html": [
       "<div>\n",
       "<style scoped>\n",
       "    .dataframe tbody tr th:only-of-type {\n",
       "        vertical-align: middle;\n",
       "    }\n",
       "\n",
       "    .dataframe tbody tr th {\n",
       "        vertical-align: top;\n",
       "    }\n",
       "\n",
       "    .dataframe thead th {\n",
       "        text-align: right;\n",
       "    }\n",
       "</style>\n",
       "<table border=\"1\" class=\"dataframe\">\n",
       "  <thead>\n",
       "    <tr style=\"text-align: right;\">\n",
       "      <th></th>\n",
       "      <th>status_group</th>\n",
       "    </tr>\n",
       "  </thead>\n",
       "  <tbody>\n",
       "    <tr>\n",
       "      <th>31258</th>\n",
       "      <td>1</td>\n",
       "    </tr>\n",
       "    <tr>\n",
       "      <th>8528</th>\n",
       "      <td>3</td>\n",
       "    </tr>\n",
       "    <tr>\n",
       "      <th>73045</th>\n",
       "      <td>2</td>\n",
       "    </tr>\n",
       "    <tr>\n",
       "      <th>40216</th>\n",
       "      <td>2</td>\n",
       "    </tr>\n",
       "    <tr>\n",
       "      <th>74474</th>\n",
       "      <td>2</td>\n",
       "    </tr>\n",
       "    <tr>\n",
       "      <th>...</th>\n",
       "      <td>...</td>\n",
       "    </tr>\n",
       "    <tr>\n",
       "      <th>73147</th>\n",
       "      <td>2</td>\n",
       "    </tr>\n",
       "    <tr>\n",
       "      <th>66558</th>\n",
       "      <td>1</td>\n",
       "    </tr>\n",
       "    <tr>\n",
       "      <th>16023</th>\n",
       "      <td>3</td>\n",
       "    </tr>\n",
       "    <tr>\n",
       "      <th>45643</th>\n",
       "      <td>3</td>\n",
       "    </tr>\n",
       "    <tr>\n",
       "      <th>53869</th>\n",
       "      <td>1</td>\n",
       "    </tr>\n",
       "  </tbody>\n",
       "</table>\n",
       "<p>58065 rows × 1 columns</p>\n",
       "</div>"
      ],
      "text/plain": [
       "       status_group\n",
       "31258             1\n",
       "8528              3\n",
       "73045             2\n",
       "40216             2\n",
       "74474             2\n",
       "...             ...\n",
       "73147             2\n",
       "66558             1\n",
       "16023             3\n",
       "45643             3\n",
       "53869             1\n",
       "\n",
       "[58065 rows x 1 columns]"
      ]
     },
     "execution_count": 40,
     "metadata": {},
     "output_type": "execute_result"
    }
   ],
   "source": [
    "y_train"
   ]
  },
  {
   "cell_type": "code",
   "execution_count": 3,
   "metadata": {},
   "outputs": [
    {
     "name": "stderr",
     "output_type": "stream",
     "text": [
      "  0%|          | 0/31 [00:00<?, ?it/s]"
     ]
    },
    {
     "name": "stderr",
     "output_type": "stream",
     "text": [
      " 39%|███▊      | 12/31 [00:35<00:36,  1.94s/it]"
     ]
    },
    {
     "ename": "",
     "evalue": "",
     "output_type": "error",
     "traceback": [
      "\u001b[1;31mCannot execute code, session has been disposed. Please try restarting the Kernel."
     ]
    },
    {
     "ename": "",
     "evalue": "",
     "output_type": "error",
     "traceback": [
      "\u001b[1;31mCannot execute code, session has been disposed. Please try restarting the Kernel. \n",
      "\u001b[1;31mView Jupyter <a href='command:jupyter.viewOutput'>log</a> for further details."
     ]
    }
   ],
   "source": [
    "clf = LazyClassifier(verbose=0,ignore_warnings=True, custom_metric=None)\n",
    "models, predictions = clf.fit(X_train, X_test, y_train, y_test)\n",
    "\n",
    "print(models)"
   ]
  },
  {
   "cell_type": "markdown",
   "metadata": {},
   "source": [
    "https://www.analyticsvidhya.com/blog/2020/10/improve-class-imbalance-class-weights/"
   ]
  },
  {
   "cell_type": "code",
   "execution_count": 3,
   "metadata": {},
   "outputs": [
    {
     "name": "stdout",
     "output_type": "stream",
     "text": [
      "{1: 1.0, 3: 1.0, 2: 1.0}\n"
     ]
    }
   ],
   "source": [
    "n_samples = len(y_train)\n",
    "\n",
    "class_count = y_train['status_group'].value_counts().to_dict()\n",
    "n_classes = len(class_count)\n",
    "\n",
    "class_weights = {}\n",
    "\n",
    "for j in class_count:\n",
    "  n_samplesj = class_count[j]\n",
    "  class_weights[j] = n_samples / (n_classes * n_samplesj)\n",
    "  \n",
    "print(class_weights)"
   ]
  },
  {
   "cell_type": "code",
   "execution_count": 3,
   "metadata": {},
   "outputs": [
    {
     "name": "stdout",
     "output_type": "stream",
     "text": [
      "Model accuracy: 0.8706344286009506\n"
     ]
    }
   ],
   "source": [
    "# clf = RandomForestClassifier(max_depth=32, random_state=1, class_weight=class_weights)\n",
    "clf = RandomForestClassifier(max_depth=32, random_state=1)\n",
    "clf.fit(X_train, y_train)\n",
    "\n",
    "y_pred = clf.predict(X_val)\n",
    "\n",
    "accuracy = accuracy_score(y_val, y_pred)\n",
    "report = classification_report(y_val, y_pred)\n",
    "\n",
    "print(f'Model accuracy: {accuracy}')"
   ]
  },
  {
   "cell_type": "code",
   "execution_count": 4,
   "metadata": {},
   "outputs": [],
   "source": [
    "def ConfusionMatrix(y_pred, labels):\n",
    "\tprint(classification_report(y_test, y_pred))\n",
    "\tcm = confusion_matrix(y_test, y_pred, labels=labels)\n",
    "\tdisp = ConfusionMatrixDisplay(confusion_matrix=cm, display_labels=labels)\n",
    "\tdisp.plot()"
   ]
  },
  {
   "cell_type": "code",
   "execution_count": 5,
   "metadata": {},
   "outputs": [
    {
     "name": "stdout",
     "output_type": "stream",
     "text": [
      "              precision    recall  f1-score   support\n",
      "\n",
      "           1       0.34      0.32      0.33      6452\n",
      "           2       0.34      0.35      0.34      6452\n",
      "           3       0.34      0.34      0.34      6452\n",
      "\n",
      "    accuracy                           0.34     19356\n",
      "   macro avg       0.34      0.34      0.34     19356\n",
      "weighted avg       0.34      0.34      0.34     19356\n",
      "\n"
     ]
    },
    {
     "data": {
      "image/png": "[encoded data removed]",
      "text/plain": [
       "<Figure size 640x480 with 2 Axes>"
      ]
     },
     "metadata": {},
     "output_type": "display_data"
    }
   ],
   "source": [
    "ConfusionMatrix(y_pred, [1, 2, 3])"
   ]
  },
  {
   "cell_type": "code",
   "execution_count": 3,
   "metadata": {},
   "outputs": [],
   "source": [
    "def ApplyGridSearch(classifier, param_grid):\n",
    "\t# Definir el método de división externa (por ejemplo, K-Folds con 5 divisiones)\n",
    "\touter_kf = KFold(n_splits=5, shuffle=True, random_state=42)\n",
    "\n",
    "\t# Definir el método de división interna para la búsqueda de hiperparámetros\n",
    "\tinner_kf = KFold(n_splits=3, shuffle=True, random_state=42)\n",
    "\n",
    "\t# Realizar la búsqueda de hiperparámetros con validación cruzada anidada\n",
    "\tgrid_search = GridSearchCV(classifier, param_grid, cv=inner_kf, verbose=3)\n",
    "\n",
    "\tnested_scores = cross_val_score(grid_search, X_train, y_train, cv=outer_kf)\n",
    "\n",
    "\t# Imprimir los puntajes de rendimiento\n",
    "\tprint(\"Puntajes de validación cruzada anidada:\", nested_scores)\n",
    "\tprint(\"Puntaje promedio:\", nested_scores.mean())\n",
    "\n",
    "\t# Entrenar el modelo con la búsqueda de hiperparámetros\n",
    "\tgrid_search.fit(X_train, y_train)\n",
    "\n",
    "\treturn grid_search"
   ]
  },
  {
   "cell_type": "code",
   "execution_count": 4,
   "metadata": {},
   "outputs": [],
   "source": [
    "def ApplyRandomSearch(classifier, param_dist):\n",
    "\t# Definir el método de división externa (por ejemplo, K-Folds con 5 divisiones)\n",
    "\touter_kf = KFold(n_splits=5, shuffle=True, random_state=42)\n",
    "\n",
    "\t# Crear un modelo RandomizedSearchCV con el clasificador y el espacio de búsqueda\n",
    "\trandom_search = RandomizedSearchCV(classifier, param_distributions=param_dist, n_iter=20, cv=3, random_state=42, verbose=3)\n",
    "\n",
    "\t# Realizar la búsqueda de hiperparámetros con validación cruzada anidada\n",
    "\tnested_scores = cross_val_score(random_search, X_train, y_train, cv=outer_kf)\n",
    "\n",
    "\t# Imprimir los puntajes de rendimiento\n",
    "\tprint(\"Puntajes de validación cruzada anidada:\", nested_scores)\n",
    "\tprint(\"Puntaje promedio:\", nested_scores.mean())\n",
    "\n",
    "\t# Entrenar el modelo con la búsqueda de hiperparámetros\n",
    "\trandom_search.fit(X_train, y_train)\n",
    "\n",
    "\treturn random_search"
   ]
  },
  {
   "cell_type": "markdown",
   "metadata": {},
   "source": [
    "https://www.kaggle.com/code/sociopath00/random-forest-using-gridsearchcv"
   ]
  },
  {
   "cell_type": "code",
   "execution_count": null,
   "metadata": {},
   "outputs": [
    {
     "name": "stdout",
     "output_type": "stream",
     "text": [
      "Fitting 3 folds for each of 16 candidates, totalling 48 fits\n",
      "[CV 1/3] END criterion=gini, max_depth=16, max_features=sqrt, n_estimators=250;, score=0.821 total time=  14.9s\n",
      "[CV 2/3] END criterion=gini, max_depth=16, max_features=sqrt, n_estimators=250;, score=0.815 total time=  14.6s\n",
      "[CV 3/3] END criterion=gini, max_depth=16, max_features=sqrt, n_estimators=250;, score=0.814 total time=  14.5s\n",
      "[CV 1/3] END criterion=gini, max_depth=16, max_features=sqrt, n_estimators=500;, score=0.821 total time=  29.2s\n",
      "[CV 2/3] END criterion=gini, max_depth=16, max_features=sqrt, n_estimators=500;, score=0.815 total time=  29.2s\n",
      "[CV 3/3] END criterion=gini, max_depth=16, max_features=sqrt, n_estimators=500;, score=0.815 total time=  29.0s\n",
      "[CV 1/3] END criterion=gini, max_depth=16, max_features=log2, n_estimators=250;, score=0.821 total time=  12.3s\n",
      "[CV 2/3] END criterion=gini, max_depth=16, max_features=log2, n_estimators=250;, score=0.813 total time=  12.5s\n",
      "[CV 3/3] END criterion=gini, max_depth=16, max_features=log2, n_estimators=250;, score=0.814 total time=  12.4s\n",
      "[CV 1/3] END criterion=gini, max_depth=16, max_features=log2, n_estimators=500;, score=0.820 total time=  24.8s\n"
     ]
    }
   ],
   "source": [
    "param_grid = [\n",
    "  { \n",
    "    'n_estimators': [250, 500],\n",
    "    'max_features': ['sqrt', 'log2'],\n",
    "    'max_depth' : [16, 32],\n",
    "    'criterion' :['gini', 'entropy']\n",
    "\t}\n",
    " ]\n",
    "\n",
    "grid_search = ApplyGridSearch(RandomForestClassifier(random_state=1), param_grid)\n",
    "\n",
    "# Acceder al modelo entrenado con los hiperparámetros óptimos\n",
    "RandomForestClassifier_model_grid_search = grid_search.best_estimator_\n",
    "\n",
    "y_pred = RandomForestClassifier_model_grid_search.predict(X_val)\n",
    "\n",
    "accuracy = accuracy_score(y_val, y_pred)\n",
    "report = classification_report(y_val, y_pred)\n",
    "\n",
    "print('---------------------------------')\n",
    "print(f'Precisión del modelo: {accuracy}')\n",
    "print(grid_search.best_estimator_)\n",
    "\n",
    "# CV_rfc = GridSearchCV(estimator=RandomForestClassifier(random_state=1), param_grid=param_grid, cv= 5)\n",
    "# CV_rfc.fit(X_train, y_train)\n",
    "\n",
    "# y_pred = CV_rfc.predict(X_val)\n",
    "\n",
    "# accuracy = accuracy_score(y_val, y_pred)\n",
    "# report = classification_report(y_val, y_pred)\n",
    "\n",
    "# print('---------------------------------')\n",
    "# print(f'Precisión del modelo: {accuracy}')"
   ]
  },
  {
   "cell_type": "code",
   "execution_count": 8,
   "metadata": {},
   "outputs": [
    {
     "data": {
      "text/plain": [
       "['output_models/RandomForestClassifier_model_grid_search.pkl']"
      ]
     },
     "execution_count": 8,
     "metadata": {},
     "output_type": "execute_result"
    }
   ],
   "source": [
    "os.mkdir('output_models')\n",
    "joblib.dump(RandomForestClassifier_model_grid_search, 'output_models/RandomForestClassifier_model_grid_search.pkl')"
   ]
  },
  {
   "cell_type": "code",
   "execution_count": 5,
   "metadata": {},
   "outputs": [
    {
     "name": "stdout",
     "output_type": "stream",
     "text": [
      "Fitting 3 folds for each of 16 candidates, totalling 48 fits\n",
      "[CV 1/3] END criterion=gini, max_depth=16, max_features=sqrt, n_estimators=250;, score=0.790 total time=   7.6s\n",
      "[CV 2/3] END criterion=gini, max_depth=16, max_features=sqrt, n_estimators=250;, score=0.793 total time=   7.6s\n",
      "[CV 3/3] END criterion=gini, max_depth=16, max_features=sqrt, n_estimators=250;, score=0.787 total time=   7.7s\n",
      "[CV 1/3] END criterion=gini, max_depth=16, max_features=sqrt, n_estimators=500;, score=0.789 total time=  15.1s\n",
      "[CV 2/3] END criterion=gini, max_depth=16, max_features=sqrt, n_estimators=500;, score=0.792 total time=  16.0s\n",
      "[CV 3/3] END criterion=gini, max_depth=16, max_features=sqrt, n_estimators=500;, score=0.787 total time=  15.8s\n",
      "[CV 1/3] END criterion=gini, max_depth=16, max_features=log2, n_estimators=250;, score=0.790 total time=   6.6s\n",
      "[CV 2/3] END criterion=gini, max_depth=16, max_features=log2, n_estimators=250;, score=0.792 total time=   6.6s\n",
      "[CV 3/3] END criterion=gini, max_depth=16, max_features=log2, n_estimators=250;, score=0.787 total time=   6.7s\n",
      "[CV 1/3] END criterion=gini, max_depth=16, max_features=log2, n_estimators=500;, score=0.790 total time=  13.4s\n",
      "[CV 2/3] END criterion=gini, max_depth=16, max_features=log2, n_estimators=500;, score=0.792 total time=  13.3s\n",
      "[CV 3/3] END criterion=gini, max_depth=16, max_features=log2, n_estimators=500;, score=0.786 total time=  13.3s\n",
      "[CV 1/3] END criterion=gini, max_depth=32, max_features=sqrt, n_estimators=250;, score=0.790 total time=   8.9s\n",
      "[CV 2/3] END criterion=gini, max_depth=32, max_features=sqrt, n_estimators=250;, score=0.796 total time=   8.9s\n",
      "[CV 3/3] END criterion=gini, max_depth=32, max_features=sqrt, n_estimators=250;, score=0.785 total time=   8.9s\n",
      "[CV 1/3] END criterion=gini, max_depth=32, max_features=sqrt, n_estimators=500;, score=0.793 total time=  18.0s\n",
      "[CV 2/3] END criterion=gini, max_depth=32, max_features=sqrt, n_estimators=500;, score=0.796 total time=  18.4s\n",
      "[CV 3/3] END criterion=gini, max_depth=32, max_features=sqrt, n_estimators=500;, score=0.786 total time=  18.0s\n",
      "[CV 1/3] END criterion=gini, max_depth=32, max_features=log2, n_estimators=250;, score=0.791 total time=   8.6s\n",
      "[CV 2/3] END criterion=gini, max_depth=32, max_features=log2, n_estimators=250;, score=0.795 total time=   9.6s\n",
      "[CV 3/3] END criterion=gini, max_depth=32, max_features=log2, n_estimators=250;, score=0.789 total time=   9.2s\n",
      "[CV 1/3] END criterion=gini, max_depth=32, max_features=log2, n_estimators=500;, score=0.794 total time=  15.6s\n",
      "[CV 2/3] END criterion=gini, max_depth=32, max_features=log2, n_estimators=500;, score=0.795 total time=  15.1s\n",
      "[CV 3/3] END criterion=gini, max_depth=32, max_features=log2, n_estimators=500;, score=0.789 total time=  15.1s\n",
      "[CV 1/3] END criterion=entropy, max_depth=16, max_features=sqrt, n_estimators=250;, score=0.790 total time=   9.6s\n",
      "[CV 2/3] END criterion=entropy, max_depth=16, max_features=sqrt, n_estimators=250;, score=0.792 total time=   9.6s\n",
      "[CV 3/3] END criterion=entropy, max_depth=16, max_features=sqrt, n_estimators=250;, score=0.788 total time=   9.6s\n",
      "[CV 1/3] END criterion=entropy, max_depth=16, max_features=sqrt, n_estimators=500;, score=0.790 total time=  19.2s\n",
      "[CV 2/3] END criterion=entropy, max_depth=16, max_features=sqrt, n_estimators=500;, score=0.792 total time=  19.3s\n",
      "[CV 3/3] END criterion=entropy, max_depth=16, max_features=sqrt, n_estimators=500;, score=0.788 total time=  19.3s\n",
      "[CV 1/3] END criterion=entropy, max_depth=16, max_features=log2, n_estimators=250;, score=0.788 total time=   8.3s\n",
      "[CV 2/3] END criterion=entropy, max_depth=16, max_features=log2, n_estimators=250;, score=0.793 total time=   8.2s\n",
      "[CV 3/3] END criterion=entropy, max_depth=16, max_features=log2, n_estimators=250;, score=0.788 total time=   8.2s\n",
      "[CV 1/3] END criterion=entropy, max_depth=16, max_features=log2, n_estimators=500;, score=0.789 total time=  16.5s\n",
      "[CV 2/3] END criterion=entropy, max_depth=16, max_features=log2, n_estimators=500;, score=0.794 total time=  16.7s\n",
      "[CV 3/3] END criterion=entropy, max_depth=16, max_features=log2, n_estimators=500;, score=0.788 total time=  16.5s\n",
      "[CV 1/3] END criterion=entropy, max_depth=32, max_features=sqrt, n_estimators=250;, score=0.790 total time=  10.9s\n",
      "[CV 2/3] END criterion=entropy, max_depth=32, max_features=sqrt, n_estimators=250;, score=0.795 total time=  10.8s\n",
      "[CV 3/3] END criterion=entropy, max_depth=32, max_features=sqrt, n_estimators=250;, score=0.787 total time=  10.8s\n",
      "[CV 1/3] END criterion=entropy, max_depth=32, max_features=sqrt, n_estimators=500;, score=0.791 total time=  21.8s\n",
      "[CV 2/3] END criterion=entropy, max_depth=32, max_features=sqrt, n_estimators=500;, score=0.795 total time=  21.8s\n",
      "[CV 3/3] END criterion=entropy, max_depth=32, max_features=sqrt, n_estimators=500;, score=0.787 total time=  22.1s\n",
      "[CV 1/3] END criterion=entropy, max_depth=32, max_features=log2, n_estimators=250;, score=0.791 total time=   9.5s\n",
      "[CV 2/3] END criterion=entropy, max_depth=32, max_features=log2, n_estimators=250;, score=0.795 total time=   9.4s\n",
      "[CV 3/3] END criterion=entropy, max_depth=32, max_features=log2, n_estimators=250;, score=0.787 total time=   9.4s\n",
      "[CV 1/3] END criterion=entropy, max_depth=32, max_features=log2, n_estimators=500;, score=0.793 total time=  19.1s\n",
      "[CV 2/3] END criterion=entropy, max_depth=32, max_features=log2, n_estimators=500;, score=0.796 total time=  19.2s\n",
      "[CV 3/3] END criterion=entropy, max_depth=32, max_features=log2, n_estimators=500;, score=0.787 total time=  18.8s\n",
      "Fitting 3 folds for each of 16 candidates, totalling 48 fits\n",
      "[CV 1/3] END criterion=gini, max_depth=16, max_features=sqrt, n_estimators=250;, score=0.787 total time=   7.5s\n",
      "[CV 2/3] END criterion=gini, max_depth=16, max_features=sqrt, n_estimators=250;, score=0.792 total time=   7.5s\n",
      "[CV 3/3] END criterion=gini, max_depth=16, max_features=sqrt, n_estimators=250;, score=0.790 total time=   7.5s\n",
      "[CV 1/3] END criterion=gini, max_depth=16, max_features=sqrt, n_estimators=500;, score=0.788 total time=  15.1s\n",
      "[CV 2/3] END criterion=gini, max_depth=16, max_features=sqrt, n_estimators=500;, score=0.792 total time=  15.0s\n",
      "[CV 3/3] END criterion=gini, max_depth=16, max_features=sqrt, n_estimators=500;, score=0.790 total time=  15.0s\n",
      "[CV 1/3] END criterion=gini, max_depth=16, max_features=log2, n_estimators=250;, score=0.788 total time=   6.5s\n",
      "[CV 2/3] END criterion=gini, max_depth=16, max_features=log2, n_estimators=250;, score=0.791 total time=   6.5s\n",
      "[CV 3/3] END criterion=gini, max_depth=16, max_features=log2, n_estimators=250;, score=0.790 total time=   6.4s\n",
      "[CV 1/3] END criterion=gini, max_depth=16, max_features=log2, n_estimators=500;, score=0.788 total time=  13.0s\n",
      "[CV 2/3] END criterion=gini, max_depth=16, max_features=log2, n_estimators=500;, score=0.790 total time=  13.0s\n",
      "[CV 3/3] END criterion=gini, max_depth=16, max_features=log2, n_estimators=500;, score=0.789 total time=  13.3s\n",
      "[CV 1/3] END criterion=gini, max_depth=32, max_features=sqrt, n_estimators=250;, score=0.788 total time=   8.8s\n",
      "[CV 2/3] END criterion=gini, max_depth=32, max_features=sqrt, n_estimators=250;, score=0.795 total time=   8.6s\n",
      "[CV 3/3] END criterion=gini, max_depth=32, max_features=sqrt, n_estimators=250;, score=0.788 total time=   8.6s\n",
      "[CV 1/3] END criterion=gini, max_depth=32, max_features=sqrt, n_estimators=500;, score=0.788 total time=  17.4s\n",
      "[CV 2/3] END criterion=gini, max_depth=32, max_features=sqrt, n_estimators=500;, score=0.795 total time=  17.3s\n",
      "[CV 3/3] END criterion=gini, max_depth=32, max_features=sqrt, n_estimators=500;, score=0.788 total time=  17.3s\n",
      "[CV 1/3] END criterion=gini, max_depth=32, max_features=log2, n_estimators=250;, score=0.788 total time=   7.6s\n",
      "[CV 2/3] END criterion=gini, max_depth=32, max_features=log2, n_estimators=250;, score=0.794 total time=   7.5s\n",
      "[CV 3/3] END criterion=gini, max_depth=32, max_features=log2, n_estimators=250;, score=0.789 total time=   8.5s\n",
      "[CV 1/3] END criterion=gini, max_depth=32, max_features=log2, n_estimators=500;, score=0.789 total time=  16.3s\n",
      "[CV 2/3] END criterion=gini, max_depth=32, max_features=log2, n_estimators=500;, score=0.793 total time=  16.1s\n",
      "[CV 3/3] END criterion=gini, max_depth=32, max_features=log2, n_estimators=500;, score=0.789 total time=  15.9s\n",
      "[CV 1/3] END criterion=entropy, max_depth=16, max_features=sqrt, n_estimators=250;, score=0.785 total time=   9.9s\n",
      "[CV 2/3] END criterion=entropy, max_depth=16, max_features=sqrt, n_estimators=250;, score=0.794 total time=   9.9s\n",
      "[CV 3/3] END criterion=entropy, max_depth=16, max_features=sqrt, n_estimators=250;, score=0.790 total time=   9.8s\n",
      "[CV 1/3] END criterion=entropy, max_depth=16, max_features=sqrt, n_estimators=500;, score=0.787 total time=  19.9s\n",
      "[CV 2/3] END criterion=entropy, max_depth=16, max_features=sqrt, n_estimators=500;, score=0.794 total time=  19.9s\n",
      "[CV 3/3] END criterion=entropy, max_depth=16, max_features=sqrt, n_estimators=500;, score=0.789 total time=  19.8s\n",
      "[CV 1/3] END criterion=entropy, max_depth=16, max_features=log2, n_estimators=250;, score=0.786 total time=   8.5s\n",
      "[CV 2/3] END criterion=entropy, max_depth=16, max_features=log2, n_estimators=250;, score=0.792 total time=   8.5s\n",
      "[CV 3/3] END criterion=entropy, max_depth=16, max_features=log2, n_estimators=250;, score=0.788 total time=   8.3s\n",
      "[CV 1/3] END criterion=entropy, max_depth=16, max_features=log2, n_estimators=500;, score=0.787 total time=  22.3s\n",
      "[CV 2/3] END criterion=entropy, max_depth=16, max_features=log2, n_estimators=500;, score=0.792 total time=  19.7s\n",
      "[CV 3/3] END criterion=entropy, max_depth=16, max_features=log2, n_estimators=500;, score=0.788 total time=  17.5s\n",
      "[CV 1/3] END criterion=entropy, max_depth=32, max_features=sqrt, n_estimators=250;, score=0.787 total time=  12.3s\n",
      "[CV 2/3] END criterion=entropy, max_depth=32, max_features=sqrt, n_estimators=250;, score=0.793 total time=  11.0s\n",
      "[CV 3/3] END criterion=entropy, max_depth=32, max_features=sqrt, n_estimators=250;, score=0.791 total time=  10.9s\n",
      "[CV 1/3] END criterion=entropy, max_depth=32, max_features=sqrt, n_estimators=500;, score=0.787 total time=  22.3s\n",
      "[CV 2/3] END criterion=entropy, max_depth=32, max_features=sqrt, n_estimators=500;, score=0.794 total time=  22.0s\n",
      "[CV 3/3] END criterion=entropy, max_depth=32, max_features=sqrt, n_estimators=500;, score=0.790 total time=  22.2s\n",
      "[CV 1/3] END criterion=entropy, max_depth=32, max_features=log2, n_estimators=250;, score=0.788 total time=   9.7s\n",
      "[CV 2/3] END criterion=entropy, max_depth=32, max_features=log2, n_estimators=250;, score=0.795 total time=   9.7s\n",
      "[CV 3/3] END criterion=entropy, max_depth=32, max_features=log2, n_estimators=250;, score=0.789 total time=   9.5s\n",
      "[CV 1/3] END criterion=entropy, max_depth=32, max_features=log2, n_estimators=500;, score=0.789 total time=  19.6s\n",
      "[CV 2/3] END criterion=entropy, max_depth=32, max_features=log2, n_estimators=500;, score=0.795 total time=  19.1s\n",
      "[CV 3/3] END criterion=entropy, max_depth=32, max_features=log2, n_estimators=500;, score=0.789 total time=  19.0s\n",
      "Fitting 3 folds for each of 16 candidates, totalling 48 fits\n",
      "[CV 1/3] END criterion=gini, max_depth=16, max_features=sqrt, n_estimators=250;, score=0.789 total time=   7.6s\n",
      "[CV 2/3] END criterion=gini, max_depth=16, max_features=sqrt, n_estimators=250;, score=0.797 total time=   7.5s\n",
      "[CV 3/3] END criterion=gini, max_depth=16, max_features=sqrt, n_estimators=250;, score=0.790 total time=   7.5s\n",
      "[CV 1/3] END criterion=gini, max_depth=16, max_features=sqrt, n_estimators=500;, score=0.790 total time=  15.6s\n",
      "[CV 2/3] END criterion=gini, max_depth=16, max_features=sqrt, n_estimators=500;, score=0.798 total time=  15.3s\n",
      "[CV 3/3] END criterion=gini, max_depth=16, max_features=sqrt, n_estimators=500;, score=0.788 total time=  15.2s\n",
      "[CV 1/3] END criterion=gini, max_depth=16, max_features=log2, n_estimators=250;, score=0.788 total time=   6.6s\n",
      "[CV 2/3] END criterion=gini, max_depth=16, max_features=log2, n_estimators=250;, score=0.799 total time=   6.6s\n",
      "[CV 3/3] END criterion=gini, max_depth=16, max_features=log2, n_estimators=250;, score=0.792 total time=   6.6s\n",
      "[CV 1/3] END criterion=gini, max_depth=16, max_features=log2, n_estimators=500;, score=0.788 total time=  13.4s\n",
      "[CV 2/3] END criterion=gini, max_depth=16, max_features=log2, n_estimators=500;, score=0.800 total time=  13.3s\n",
      "[CV 3/3] END criterion=gini, max_depth=16, max_features=log2, n_estimators=500;, score=0.789 total time=  13.4s\n",
      "[CV 1/3] END criterion=gini, max_depth=32, max_features=sqrt, n_estimators=250;, score=0.792 total time=   9.2s\n",
      "[CV 2/3] END criterion=gini, max_depth=32, max_features=sqrt, n_estimators=250;, score=0.799 total time=   9.1s\n",
      "[CV 3/3] END criterion=gini, max_depth=32, max_features=sqrt, n_estimators=250;, score=0.789 total time=   8.7s\n",
      "[CV 1/3] END criterion=gini, max_depth=32, max_features=sqrt, n_estimators=500;, score=0.793 total time=  17.6s\n",
      "[CV 2/3] END criterion=gini, max_depth=32, max_features=sqrt, n_estimators=500;, score=0.799 total time=  17.3s\n",
      "[CV 3/3] END criterion=gini, max_depth=32, max_features=sqrt, n_estimators=500;, score=0.788 total time=  17.5s\n",
      "[CV 1/3] END criterion=gini, max_depth=32, max_features=log2, n_estimators=250;, score=0.794 total time=   7.5s\n",
      "[CV 2/3] END criterion=gini, max_depth=32, max_features=log2, n_estimators=250;, score=0.800 total time=   7.5s\n",
      "[CV 3/3] END criterion=gini, max_depth=32, max_features=log2, n_estimators=250;, score=0.790 total time=   7.4s\n",
      "[CV 1/3] END criterion=gini, max_depth=32, max_features=log2, n_estimators=500;, score=0.791 total time=  15.5s\n",
      "[CV 2/3] END criterion=gini, max_depth=32, max_features=log2, n_estimators=500;, score=0.799 total time=  15.5s\n",
      "[CV 3/3] END criterion=gini, max_depth=32, max_features=log2, n_estimators=500;, score=0.789 total time=  15.0s\n",
      "[CV 1/3] END criterion=entropy, max_depth=16, max_features=sqrt, n_estimators=250;, score=0.787 total time=   9.5s\n",
      "[CV 2/3] END criterion=entropy, max_depth=16, max_features=sqrt, n_estimators=250;, score=0.798 total time=   9.7s\n",
      "[CV 3/3] END criterion=entropy, max_depth=16, max_features=sqrt, n_estimators=250;, score=0.790 total time=   9.8s\n",
      "[CV 1/3] END criterion=entropy, max_depth=16, max_features=sqrt, n_estimators=500;, score=0.787 total time=  19.3s\n",
      "[CV 2/3] END criterion=entropy, max_depth=16, max_features=sqrt, n_estimators=500;, score=0.799 total time=  19.9s\n",
      "[CV 3/3] END criterion=entropy, max_depth=16, max_features=sqrt, n_estimators=500;, score=0.791 total time=  19.8s\n",
      "[CV 1/3] END criterion=entropy, max_depth=16, max_features=log2, n_estimators=250;, score=0.786 total time=   8.4s\n",
      "[CV 2/3] END criterion=entropy, max_depth=16, max_features=log2, n_estimators=250;, score=0.798 total time=   8.4s\n",
      "[CV 3/3] END criterion=entropy, max_depth=16, max_features=log2, n_estimators=250;, score=0.791 total time=   8.3s\n",
      "[CV 1/3] END criterion=entropy, max_depth=16, max_features=log2, n_estimators=500;, score=0.786 total time=  17.1s\n",
      "[CV 2/3] END criterion=entropy, max_depth=16, max_features=log2, n_estimators=500;, score=0.800 total time=  16.6s\n",
      "[CV 3/3] END criterion=entropy, max_depth=16, max_features=log2, n_estimators=500;, score=0.792 total time=  16.5s\n",
      "[CV 1/3] END criterion=entropy, max_depth=32, max_features=sqrt, n_estimators=250;, score=0.791 total time=  11.0s\n",
      "[CV 2/3] END criterion=entropy, max_depth=32, max_features=sqrt, n_estimators=250;, score=0.797 total time=  11.1s\n",
      "[CV 3/3] END criterion=entropy, max_depth=32, max_features=sqrt, n_estimators=250;, score=0.790 total time=  11.0s\n",
      "[CV 1/3] END criterion=entropy, max_depth=32, max_features=sqrt, n_estimators=500;, score=0.790 total time=  22.4s\n",
      "[CV 2/3] END criterion=entropy, max_depth=32, max_features=sqrt, n_estimators=500;, score=0.798 total time=  21.9s\n",
      "[CV 3/3] END criterion=entropy, max_depth=32, max_features=sqrt, n_estimators=500;, score=0.791 total time=  22.2s\n",
      "[CV 1/3] END criterion=entropy, max_depth=32, max_features=log2, n_estimators=250;, score=0.791 total time=   9.6s\n",
      "[CV 2/3] END criterion=entropy, max_depth=32, max_features=log2, n_estimators=250;, score=0.796 total time=   9.7s\n",
      "[CV 3/3] END criterion=entropy, max_depth=32, max_features=log2, n_estimators=250;, score=0.789 total time=   9.5s\n",
      "[CV 1/3] END criterion=entropy, max_depth=32, max_features=log2, n_estimators=500;, score=0.791 total time=  19.1s\n",
      "[CV 2/3] END criterion=entropy, max_depth=32, max_features=log2, n_estimators=500;, score=0.798 total time=  19.3s\n",
      "[CV 3/3] END criterion=entropy, max_depth=32, max_features=log2, n_estimators=500;, score=0.791 total time=  19.2s\n",
      "Fitting 3 folds for each of 16 candidates, totalling 48 fits\n",
      "[CV 1/3] END criterion=gini, max_depth=16, max_features=sqrt, n_estimators=250;, score=0.792 total time=   7.6s\n",
      "[CV 2/3] END criterion=gini, max_depth=16, max_features=sqrt, n_estimators=250;, score=0.796 total time=   7.6s\n",
      "[CV 3/3] END criterion=gini, max_depth=16, max_features=sqrt, n_estimators=250;, score=0.790 total time=   7.6s\n",
      "[CV 1/3] END criterion=gini, max_depth=16, max_features=sqrt, n_estimators=500;, score=0.792 total time=  15.2s\n",
      "[CV 2/3] END criterion=gini, max_depth=16, max_features=sqrt, n_estimators=500;, score=0.796 total time=  15.2s\n",
      "[CV 3/3] END criterion=gini, max_depth=16, max_features=sqrt, n_estimators=500;, score=0.789 total time=  15.9s\n",
      "[CV 1/3] END criterion=gini, max_depth=16, max_features=log2, n_estimators=250;, score=0.790 total time=   6.6s\n",
      "[CV 2/3] END criterion=gini, max_depth=16, max_features=log2, n_estimators=250;, score=0.795 total time=   6.6s\n",
      "[CV 3/3] END criterion=gini, max_depth=16, max_features=log2, n_estimators=250;, score=0.788 total time=   6.5s\n",
      "[CV 1/3] END criterion=gini, max_depth=16, max_features=log2, n_estimators=500;, score=0.791 total time=  13.0s\n",
      "[CV 2/3] END criterion=gini, max_depth=16, max_features=log2, n_estimators=500;, score=0.797 total time=  13.1s\n",
      "[CV 3/3] END criterion=gini, max_depth=16, max_features=log2, n_estimators=500;, score=0.787 total time=  13.0s\n",
      "[CV 1/3] END criterion=gini, max_depth=32, max_features=sqrt, n_estimators=250;, score=0.793 total time=   8.7s\n",
      "[CV 2/3] END criterion=gini, max_depth=32, max_features=sqrt, n_estimators=250;, score=0.798 total time=   9.0s\n",
      "[CV 3/3] END criterion=gini, max_depth=32, max_features=sqrt, n_estimators=250;, score=0.789 total time=   8.8s\n",
      "[CV 1/3] END criterion=gini, max_depth=32, max_features=sqrt, n_estimators=500;, score=0.793 total time=  17.8s\n",
      "[CV 2/3] END criterion=gini, max_depth=32, max_features=sqrt, n_estimators=500;, score=0.797 total time=  18.0s\n",
      "[CV 3/3] END criterion=gini, max_depth=32, max_features=sqrt, n_estimators=500;, score=0.787 total time=  17.5s\n",
      "[CV 1/3] END criterion=gini, max_depth=32, max_features=log2, n_estimators=250;, score=0.794 total time=   7.6s\n",
      "[CV 2/3] END criterion=gini, max_depth=32, max_features=log2, n_estimators=250;, score=0.797 total time=   7.7s\n",
      "[CV 3/3] END criterion=gini, max_depth=32, max_features=log2, n_estimators=250;, score=0.788 total time=   7.8s\n",
      "[CV 1/3] END criterion=gini, max_depth=32, max_features=log2, n_estimators=500;, score=0.793 total time=  15.5s\n",
      "[CV 2/3] END criterion=gini, max_depth=32, max_features=log2, n_estimators=500;, score=0.796 total time=  15.2s\n",
      "[CV 3/3] END criterion=gini, max_depth=32, max_features=log2, n_estimators=500;, score=0.788 total time=  15.2s\n",
      "[CV 1/3] END criterion=entropy, max_depth=16, max_features=sqrt, n_estimators=250;, score=0.790 total time=   9.6s\n",
      "[CV 2/3] END criterion=entropy, max_depth=16, max_features=sqrt, n_estimators=250;, score=0.793 total time=   9.6s\n",
      "[CV 3/3] END criterion=entropy, max_depth=16, max_features=sqrt, n_estimators=250;, score=0.787 total time=   9.6s\n",
      "[CV 1/3] END criterion=entropy, max_depth=16, max_features=sqrt, n_estimators=500;, score=0.790 total time=  19.3s\n",
      "[CV 2/3] END criterion=entropy, max_depth=16, max_features=sqrt, n_estimators=500;, score=0.794 total time=  19.3s\n",
      "[CV 3/3] END criterion=entropy, max_depth=16, max_features=sqrt, n_estimators=500;, score=0.787 total time=  19.2s\n",
      "[CV 1/3] END criterion=entropy, max_depth=16, max_features=log2, n_estimators=250;, score=0.790 total time=   8.3s\n",
      "[CV 2/3] END criterion=entropy, max_depth=16, max_features=log2, n_estimators=250;, score=0.791 total time=   8.2s\n",
      "[CV 3/3] END criterion=entropy, max_depth=16, max_features=log2, n_estimators=250;, score=0.786 total time=   8.2s\n",
      "[CV 1/3] END criterion=entropy, max_depth=16, max_features=log2, n_estimators=500;, score=0.790 total time=  16.6s\n",
      "[CV 2/3] END criterion=entropy, max_depth=16, max_features=log2, n_estimators=500;, score=0.794 total time=  16.6s\n",
      "[CV 3/3] END criterion=entropy, max_depth=16, max_features=log2, n_estimators=500;, score=0.786 total time=  16.5s\n",
      "[CV 1/3] END criterion=entropy, max_depth=32, max_features=sqrt, n_estimators=250;, score=0.793 total time=  11.0s\n",
      "[CV 2/3] END criterion=entropy, max_depth=32, max_features=sqrt, n_estimators=250;, score=0.797 total time=  10.9s\n",
      "[CV 3/3] END criterion=entropy, max_depth=32, max_features=sqrt, n_estimators=250;, score=0.784 total time=  10.9s\n",
      "[CV 1/3] END criterion=entropy, max_depth=32, max_features=sqrt, n_estimators=500;, score=0.794 total time=  22.4s\n",
      "[CV 2/3] END criterion=entropy, max_depth=32, max_features=sqrt, n_estimators=500;, score=0.797 total time=  22.5s\n",
      "[CV 3/3] END criterion=entropy, max_depth=32, max_features=sqrt, n_estimators=500;, score=0.786 total time=  23.2s\n",
      "[CV 1/3] END criterion=entropy, max_depth=32, max_features=log2, n_estimators=250;, score=0.795 total time=   9.6s\n",
      "[CV 2/3] END criterion=entropy, max_depth=32, max_features=log2, n_estimators=250;, score=0.797 total time=   9.7s\n",
      "[CV 3/3] END criterion=entropy, max_depth=32, max_features=log2, n_estimators=250;, score=0.786 total time=   9.7s\n",
      "[CV 1/3] END criterion=entropy, max_depth=32, max_features=log2, n_estimators=500;, score=0.794 total time=  19.9s\n",
      "[CV 2/3] END criterion=entropy, max_depth=32, max_features=log2, n_estimators=500;, score=0.798 total time=  19.4s\n",
      "[CV 3/3] END criterion=entropy, max_depth=32, max_features=log2, n_estimators=500;, score=0.786 total time=  19.0s\n",
      "Fitting 3 folds for each of 16 candidates, totalling 48 fits\n",
      "[CV 1/3] END criterion=gini, max_depth=16, max_features=sqrt, n_estimators=250;, score=0.794 total time=   7.6s\n",
      "[CV 2/3] END criterion=gini, max_depth=16, max_features=sqrt, n_estimators=250;, score=0.794 total time=   7.5s\n",
      "[CV 3/3] END criterion=gini, max_depth=16, max_features=sqrt, n_estimators=250;, score=0.787 total time=   7.6s\n",
      "[CV 1/3] END criterion=gini, max_depth=16, max_features=sqrt, n_estimators=500;, score=0.793 total time=  15.2s\n",
      "[CV 2/3] END criterion=gini, max_depth=16, max_features=sqrt, n_estimators=500;, score=0.795 total time=  15.3s\n",
      "[CV 3/3] END criterion=gini, max_depth=16, max_features=sqrt, n_estimators=500;, score=0.788 total time=  15.4s\n",
      "[CV 1/3] END criterion=gini, max_depth=16, max_features=log2, n_estimators=250;, score=0.793 total time=   6.5s\n",
      "[CV 2/3] END criterion=gini, max_depth=16, max_features=log2, n_estimators=250;, score=0.797 total time=   6.5s\n",
      "[CV 3/3] END criterion=gini, max_depth=16, max_features=log2, n_estimators=250;, score=0.787 total time=   6.5s\n",
      "[CV 1/3] END criterion=gini, max_depth=16, max_features=log2, n_estimators=500;, score=0.792 total time=  13.1s\n",
      "[CV 2/3] END criterion=gini, max_depth=16, max_features=log2, n_estimators=500;, score=0.796 total time=  13.1s\n",
      "[CV 3/3] END criterion=gini, max_depth=16, max_features=log2, n_estimators=500;, score=0.788 total time=  13.2s\n",
      "[CV 1/3] END criterion=gini, max_depth=32, max_features=sqrt, n_estimators=250;, score=0.794 total time=   8.8s\n",
      "[CV 2/3] END criterion=gini, max_depth=32, max_features=sqrt, n_estimators=250;, score=0.791 total time=   8.7s\n",
      "[CV 3/3] END criterion=gini, max_depth=32, max_features=sqrt, n_estimators=250;, score=0.787 total time=   8.8s\n",
      "[CV 1/3] END criterion=gini, max_depth=32, max_features=sqrt, n_estimators=500;, score=0.795 total time=  17.6s\n",
      "[CV 2/3] END criterion=gini, max_depth=32, max_features=sqrt, n_estimators=500;, score=0.794 total time=  17.6s\n",
      "[CV 3/3] END criterion=gini, max_depth=32, max_features=sqrt, n_estimators=500;, score=0.788 total time=  17.6s\n",
      "[CV 1/3] END criterion=gini, max_depth=32, max_features=log2, n_estimators=250;, score=0.794 total time=   7.6s\n",
      "[CV 2/3] END criterion=gini, max_depth=32, max_features=log2, n_estimators=250;, score=0.794 total time=   7.7s\n",
      "[CV 3/3] END criterion=gini, max_depth=32, max_features=log2, n_estimators=250;, score=0.786 total time=   7.8s\n",
      "[CV 1/3] END criterion=gini, max_depth=32, max_features=log2, n_estimators=500;, score=0.795 total time=  15.9s\n",
      "[CV 2/3] END criterion=gini, max_depth=32, max_features=log2, n_estimators=500;, score=0.796 total time=  15.4s\n",
      "[CV 3/3] END criterion=gini, max_depth=32, max_features=log2, n_estimators=500;, score=0.788 total time=  15.8s\n",
      "[CV 1/3] END criterion=entropy, max_depth=16, max_features=sqrt, n_estimators=250;, score=0.792 total time=   9.8s\n",
      "[CV 2/3] END criterion=entropy, max_depth=16, max_features=sqrt, n_estimators=250;, score=0.796 total time=   9.8s\n",
      "[CV 3/3] END criterion=entropy, max_depth=16, max_features=sqrt, n_estimators=250;, score=0.787 total time=  10.1s\n",
      "[CV 1/3] END criterion=entropy, max_depth=16, max_features=sqrt, n_estimators=500;, score=0.793 total time=  20.1s\n",
      "[CV 2/3] END criterion=entropy, max_depth=16, max_features=sqrt, n_estimators=500;, score=0.795 total time=  19.4s\n",
      "[CV 3/3] END criterion=entropy, max_depth=16, max_features=sqrt, n_estimators=500;, score=0.788 total time=  19.2s\n",
      "[CV 1/3] END criterion=entropy, max_depth=16, max_features=log2, n_estimators=250;, score=0.793 total time=   8.3s\n",
      "[CV 2/3] END criterion=entropy, max_depth=16, max_features=log2, n_estimators=250;, score=0.794 total time=   8.3s\n",
      "[CV 3/3] END criterion=entropy, max_depth=16, max_features=log2, n_estimators=250;, score=0.788 total time=   8.3s\n",
      "[CV 1/3] END criterion=entropy, max_depth=16, max_features=log2, n_estimators=500;, score=0.794 total time=  16.6s\n",
      "[CV 2/3] END criterion=entropy, max_depth=16, max_features=log2, n_estimators=500;, score=0.794 total time=  16.6s\n",
      "[CV 3/3] END criterion=entropy, max_depth=16, max_features=log2, n_estimators=500;, score=0.788 total time=  16.6s\n",
      "[CV 1/3] END criterion=entropy, max_depth=32, max_features=sqrt, n_estimators=250;, score=0.793 total time=  11.0s\n",
      "[CV 2/3] END criterion=entropy, max_depth=32, max_features=sqrt, n_estimators=250;, score=0.793 total time=  10.9s\n",
      "[CV 3/3] END criterion=entropy, max_depth=32, max_features=sqrt, n_estimators=250;, score=0.788 total time=  10.9s\n",
      "[CV 1/3] END criterion=entropy, max_depth=32, max_features=sqrt, n_estimators=500;, score=0.794 total time=  21.9s\n",
      "[CV 2/3] END criterion=entropy, max_depth=32, max_features=sqrt, n_estimators=500;, score=0.794 total time=  22.1s\n",
      "[CV 3/3] END criterion=entropy, max_depth=32, max_features=sqrt, n_estimators=500;, score=0.789 total time=  22.8s\n",
      "[CV 1/3] END criterion=entropy, max_depth=32, max_features=log2, n_estimators=250;, score=0.796 total time=   9.4s\n",
      "[CV 2/3] END criterion=entropy, max_depth=32, max_features=log2, n_estimators=250;, score=0.793 total time=   9.5s\n",
      "[CV 3/3] END criterion=entropy, max_depth=32, max_features=log2, n_estimators=250;, score=0.788 total time=   9.4s\n",
      "[CV 1/3] END criterion=entropy, max_depth=32, max_features=log2, n_estimators=500;, score=0.795 total time=  19.0s\n",
      "[CV 2/3] END criterion=entropy, max_depth=32, max_features=log2, n_estimators=500;, score=0.793 total time=  19.0s\n",
      "[CV 3/3] END criterion=entropy, max_depth=32, max_features=log2, n_estimators=500;, score=0.789 total time=  19.0s\n",
      "Puntajes de validación cruzada anidada: [0.80246914 0.80695847 0.79812009 0.79741863 0.80204826]\n",
      "Puntaje promedio: 0.8014029180695846\n",
      "Fitting 3 folds for each of 16 candidates, totalling 48 fits\n",
      "[CV 1/3] END criterion=gini, max_depth=16, max_features=sqrt, n_estimators=250;, score=0.795 total time=   9.6s\n",
      "[CV 2/3] END criterion=gini, max_depth=16, max_features=sqrt, n_estimators=250;, score=0.799 total time=   9.4s\n",
      "[CV 3/3] END criterion=gini, max_depth=16, max_features=sqrt, n_estimators=250;, score=0.793 total time=   9.4s\n",
      "[CV 1/3] END criterion=gini, max_depth=16, max_features=sqrt, n_estimators=500;, score=0.795 total time=  19.4s\n",
      "[CV 2/3] END criterion=gini, max_depth=16, max_features=sqrt, n_estimators=500;, score=0.799 total time=  19.0s\n",
      "[CV 3/3] END criterion=gini, max_depth=16, max_features=sqrt, n_estimators=500;, score=0.793 total time=  18.9s\n",
      "[CV 1/3] END criterion=gini, max_depth=16, max_features=log2, n_estimators=250;, score=0.792 total time=   8.2s\n",
      "[CV 2/3] END criterion=gini, max_depth=16, max_features=log2, n_estimators=250;, score=0.798 total time=   8.1s\n",
      "[CV 3/3] END criterion=gini, max_depth=16, max_features=log2, n_estimators=250;, score=0.791 total time=   8.0s\n",
      "[CV 1/3] END criterion=gini, max_depth=16, max_features=log2, n_estimators=500;, score=0.794 total time=  16.4s\n",
      "[CV 2/3] END criterion=gini, max_depth=16, max_features=log2, n_estimators=500;, score=0.799 total time=  16.3s\n",
      "[CV 3/3] END criterion=gini, max_depth=16, max_features=log2, n_estimators=500;, score=0.792 total time=  16.7s\n",
      "[CV 1/3] END criterion=gini, max_depth=32, max_features=sqrt, n_estimators=250;, score=0.795 total time=  11.0s\n",
      "[CV 2/3] END criterion=gini, max_depth=32, max_features=sqrt, n_estimators=250;, score=0.802 total time=  11.2s\n",
      "[CV 3/3] END criterion=gini, max_depth=32, max_features=sqrt, n_estimators=250;, score=0.794 total time=  11.1s\n",
      "[CV 1/3] END criterion=gini, max_depth=32, max_features=sqrt, n_estimators=500;, score=0.796 total time=  22.2s\n",
      "[CV 2/3] END criterion=gini, max_depth=32, max_features=sqrt, n_estimators=500;, score=0.802 total time=  22.3s\n",
      "[CV 3/3] END criterion=gini, max_depth=32, max_features=sqrt, n_estimators=500;, score=0.793 total time=  22.6s\n",
      "[CV 1/3] END criterion=gini, max_depth=32, max_features=log2, n_estimators=250;, score=0.797 total time=   9.8s\n",
      "[CV 2/3] END criterion=gini, max_depth=32, max_features=log2, n_estimators=250;, score=0.801 total time=   9.7s\n",
      "[CV 3/3] END criterion=gini, max_depth=32, max_features=log2, n_estimators=250;, score=0.791 total time=   9.7s\n",
      "[CV 1/3] END criterion=gini, max_depth=32, max_features=log2, n_estimators=500;, score=0.799 total time=  19.2s\n",
      "[CV 2/3] END criterion=gini, max_depth=32, max_features=log2, n_estimators=500;, score=0.801 total time=  19.1s\n",
      "[CV 3/3] END criterion=gini, max_depth=32, max_features=log2, n_estimators=500;, score=0.793 total time=  19.6s\n",
      "[CV 1/3] END criterion=entropy, max_depth=16, max_features=sqrt, n_estimators=250;, score=0.793 total time=  12.0s\n",
      "[CV 2/3] END criterion=entropy, max_depth=16, max_features=sqrt, n_estimators=250;, score=0.799 total time=  11.9s\n",
      "[CV 3/3] END criterion=entropy, max_depth=16, max_features=sqrt, n_estimators=250;, score=0.791 total time=  12.0s\n",
      "[CV 1/3] END criterion=entropy, max_depth=16, max_features=sqrt, n_estimators=500;, score=0.792 total time=  24.0s\n",
      "[CV 2/3] END criterion=entropy, max_depth=16, max_features=sqrt, n_estimators=500;, score=0.798 total time=  24.2s\n",
      "[CV 3/3] END criterion=entropy, max_depth=16, max_features=sqrt, n_estimators=500;, score=0.792 total time=  23.8s\n",
      "[CV 1/3] END criterion=entropy, max_depth=16, max_features=log2, n_estimators=250;, score=0.792 total time=  10.3s\n",
      "[CV 2/3] END criterion=entropy, max_depth=16, max_features=log2, n_estimators=250;, score=0.798 total time=  10.3s\n",
      "[CV 3/3] END criterion=entropy, max_depth=16, max_features=log2, n_estimators=250;, score=0.792 total time=  10.2s\n",
      "[CV 1/3] END criterion=entropy, max_depth=16, max_features=log2, n_estimators=500;, score=0.793 total time=  20.5s\n",
      "[CV 2/3] END criterion=entropy, max_depth=16, max_features=log2, n_estimators=500;, score=0.798 total time=  20.8s\n",
      "[CV 3/3] END criterion=entropy, max_depth=16, max_features=log2, n_estimators=500;, score=0.793 total time=  20.9s\n",
      "[CV 1/3] END criterion=entropy, max_depth=32, max_features=sqrt, n_estimators=250;, score=0.797 total time=  14.0s\n",
      "[CV 2/3] END criterion=entropy, max_depth=32, max_features=sqrt, n_estimators=250;, score=0.800 total time=  14.5s\n",
      "[CV 3/3] END criterion=entropy, max_depth=32, max_features=sqrt, n_estimators=250;, score=0.793 total time=  13.9s\n",
      "[CV 1/3] END criterion=entropy, max_depth=32, max_features=sqrt, n_estimators=500;, score=0.797 total time=  27.8s\n",
      "[CV 2/3] END criterion=entropy, max_depth=32, max_features=sqrt, n_estimators=500;, score=0.801 total time=  27.7s\n",
      "[CV 3/3] END criterion=entropy, max_depth=32, max_features=sqrt, n_estimators=500;, score=0.793 total time=  27.5s\n",
      "[CV 1/3] END criterion=entropy, max_depth=32, max_features=log2, n_estimators=250;, score=0.796 total time=  12.1s\n",
      "[CV 2/3] END criterion=entropy, max_depth=32, max_features=log2, n_estimators=250;, score=0.799 total time=  12.0s\n",
      "[CV 3/3] END criterion=entropy, max_depth=32, max_features=log2, n_estimators=250;, score=0.793 total time=  11.9s\n",
      "[CV 1/3] END criterion=entropy, max_depth=32, max_features=log2, n_estimators=500;, score=0.798 total time=  24.0s\n",
      "[CV 2/3] END criterion=entropy, max_depth=32, max_features=log2, n_estimators=500;, score=0.800 total time=  24.0s\n",
      "[CV 3/3] END criterion=entropy, max_depth=32, max_features=log2, n_estimators=500;, score=0.794 total time=  23.9s\n",
      "---------------------------------\n",
      "Precisión del modelo: 0.8083333333333333\n"
     ]
    },
    {
     "ename": "NameError",
     "evalue": "name 'grid_search' is not defined",
     "output_type": "error",
     "traceback": [
      "\u001b[1;31m---------------------------------------------------------------------------\u001b[0m",
      "\u001b[1;31mNameError\u001b[0m                                 Traceback (most recent call last)",
      "Cell \u001b[1;32mIn[5], line 22\u001b[0m\n\u001b[0;32m     20\u001b[0m \u001b[38;5;28mprint\u001b[39m(\u001b[38;5;124m'\u001b[39m\u001b[38;5;124m---------------------------------\u001b[39m\u001b[38;5;124m'\u001b[39m)\n\u001b[0;32m     21\u001b[0m \u001b[38;5;28mprint\u001b[39m(\u001b[38;5;124mf\u001b[39m\u001b[38;5;124m'\u001b[39m\u001b[38;5;124mPrecisión del modelo: \u001b[39m\u001b[38;5;132;01m{\u001b[39;00maccuracy\u001b[38;5;132;01m}\u001b[39;00m\u001b[38;5;124m'\u001b[39m)\n\u001b[1;32m---> 22\u001b[0m \u001b[38;5;28mprint\u001b[39m(\u001b[43mgrid_search\u001b[49m\u001b[38;5;241m.\u001b[39mbest_estimator_)\n",
      "\u001b[1;31mNameError\u001b[0m: name 'grid_search' is not defined"
     ]
    }
   ],
   "source": [
    "param_dist = [\n",
    "  { \n",
    "    'n_estimators': [250, 500],\n",
    "    'max_features': ['sqrt', 'log2'],\n",
    "    'max_depth' : [16, 32],\n",
    "    'criterion' :['gini', 'entropy']\n",
    "\t}\n",
    " ]\n",
    "\n",
    "random_search = ApplyRandomSearch(RandomForestClassifier(random_state=1), param_dist)\n",
    "\n",
    "# Acceder al modelo entrenado con los hiperparámetros óptimos\n",
    "RandomForestClassifier_model_random_search = random_search.best_estimator_\n",
    "\n",
    "y_pred = RandomForestClassifier_model_random_search.predict(X_val)\n",
    "\n",
    "accuracy = accuracy_score(y_val, y_pred)\n",
    "report = classification_report(y_val, y_pred)\n",
    "\n",
    "print('---------------------------------')\n",
    "print(f'Precisión del modelo: {accuracy}')\n",
    "print(random_search.best_estimator_)"
   ]
  },
  {
   "cell_type": "code",
   "execution_count": 6,
   "metadata": {},
   "outputs": [
    {
     "name": "stdout",
     "output_type": "stream",
     "text": [
      "RandomForestClassifier(max_depth=32, max_features='log2', n_estimators=500,\n",
      "                       random_state=1)\n"
     ]
    }
   ],
   "source": [
    "print(random_search.best_estimator_)"
   ]
  },
  {
   "cell_type": "code",
   "execution_count": 7,
   "metadata": {},
   "outputs": [
    {
     "data": {
      "text/plain": [
       "['output_models/RandomForestClassifier_model_random_search.pkl']"
      ]
     },
     "execution_count": 7,
     "metadata": {},
     "output_type": "execute_result"
    }
   ],
   "source": [
    "joblib.dump(RandomForestClassifier_model_random_search, 'output_models/RandomForestClassifier_model_random_search.pkl')"
   ]
  },
  {
   "cell_type": "code",
   "execution_count": 9,
   "metadata": {},
   "outputs": [],
   "source": [
    "RandomForestClassifier_model_grid_search = joblib.load('output_models/RandomForestClassifier_model_grid_search.pkl')"
   ]
  },
  {
   "cell_type": "code",
   "execution_count": 5,
   "metadata": {},
   "outputs": [],
   "source": [
    "def ConfusionMatrix(y_pred, labels):\n",
    "\tprint(classification_report(y_test, y_pred))\n",
    "\tcm = confusion_matrix(y_test, y_pred, labels=labels)\n",
    "\tdisp = ConfusionMatrixDisplay(confusion_matrix=cm, display_labels=labels)\n",
    "\tdisp.plot()"
   ]
  },
  {
   "cell_type": "code",
   "execution_count": 6,
   "metadata": {},
   "outputs": [
    {
     "name": "stdout",
     "output_type": "stream",
     "text": [
      "              precision    recall  f1-score   support\n",
      "\n",
      "           1       0.34      0.32      0.33      6452\n",
      "           2       0.34      0.35      0.34      6452\n",
      "           3       0.34      0.34      0.34      6452\n",
      "\n",
      "    accuracy                           0.34     19356\n",
      "   macro avg       0.34      0.34      0.34     19356\n",
      "weighted avg       0.34      0.34      0.34     19356\n",
      "\n"
     ]
    },
    {
     "data": {
      "image/png": "[encoded data removed]",
      "text/plain": [
       "<Figure size 640x480 with 2 Axes>"
      ]
     },
     "metadata": {},
     "output_type": "display_data"
    }
   ],
   "source": [
    "ConfusionMatrix(y_pred, [1, 2, 3])"
   ]
  }
 ],
 "metadata": {
  "kernelspec": {
   "display_name": "three-twelve",
   "language": "python",
   "name": "python3"
  },
  "language_info": {
   "codemirror_mode": {
    "name": "ipython",
    "version": 3
   },
   "file_extension": ".py",
   "mimetype": "text/x-python",
   "name": "python",
   "nbconvert_exporter": "python",
   "pygments_lexer": "ipython3",
   "version": "3.12.3"
  }
 },
 "nbformat": 4,
 "nbformat_minor": 2
}
